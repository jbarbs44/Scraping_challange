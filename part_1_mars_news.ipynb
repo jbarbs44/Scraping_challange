{
 "cells": [
  {
   "cell_type": "markdown",
   "metadata": {},
   "source": [
    "# Module 12 Challenge\n",
    "## Deliverable 1: Scrape Titles and Preview Text from Mars News"
   ]
  },
  {
   "cell_type": "code",
   "execution_count": 1,
   "metadata": {},
   "outputs": [],
   "source": [
    "# Import Splinter and BeautifulSoup\n",
    "from splinter import Browser\n",
    "from bs4 import BeautifulSoup as soup"
   ]
  },
  {
   "cell_type": "code",
   "execution_count": 2,
   "metadata": {
    "scrolled": true
   },
   "outputs": [
    {
     "name": "stderr",
     "output_type": "stream",
     "text": [
      "[WDM] - Downloading: 100%|██████████| 8.79M/8.79M [00:00<00:00, 23.6MB/s]\n"
     ]
    }
   ],
   "source": [
    "# Set up the browser\n",
    "from webdriver_manager.chrome import ChromeDriverManager\n",
    "\n",
    "# Setup splinter\n",
    "executable_path = {'executable_path': ChromeDriverManager().install()}\n",
    "browser = Browser('chrome', **executable_path, headless=False)"
   ]
  },
  {
   "cell_type": "markdown",
   "metadata": {},
   "source": [
    "### Step 1: Visit the Website\n",
    "\n",
    "1. Use automated browsing to visit the [Mars news site](https://static.bc-edx.com/data/web/mars_news/index.html). Inspect the page to identify which elements to scrape.\n",
    "\n",
    "      > **Hint** To identify which elements to scrape, you might want to inspect the page by using Chrome DevTools."
   ]
  },
  {
   "cell_type": "code",
   "execution_count": 3,
   "metadata": {},
   "outputs": [],
   "source": [
    "# Visit the Mars news site\n",
    "url = 'https://static.bc-edx.com/data/web/mars_news/index.html'\n",
    "browser.visit(url)"
   ]
  },
  {
   "cell_type": "markdown",
   "metadata": {},
   "source": [
    "### Step 2: Scrape the Website\n",
    "\n",
    "Create a Beautiful Soup object and use it to extract text elements from the website."
   ]
  },
  {
   "cell_type": "code",
   "execution_count": 4,
   "metadata": {},
   "outputs": [],
   "source": [
    "# Create a Beautiful Soup object\n",
    "html = browser.html"
   ]
  },
  {
   "cell_type": "code",
   "execution_count": 5,
   "metadata": {},
   "outputs": [],
   "source": [
    "# Extract all the text elements\n",
    "news_soup = soup(html, 'html.parser')"
   ]
  },
  {
   "cell_type": "markdown",
   "metadata": {},
   "source": [
    "### Step 3: Store the Results\n",
    "\n",
    "Extract the titles and preview text of the news articles that you scraped. Store the scraping results in Python data structures as follows:\n",
    "\n",
    "* Store each title-and-preview pair in a Python dictionary. And, give each dictionary two keys: `title` and `preview`. An example is the following:\n",
    "\n",
    "  ```python\n",
    "  {'title': \"NASA's MAVEN Observes Martian Light Show Caused by Major Solar Storm\", \n",
    "   'preview': \"For the first time in its eight years orbiting Mars, NASA’s MAVEN mission witnessed two different types of ultraviolet aurorae simultaneously, the result of solar storms that began on Aug. 27.\"\n",
    "  }\n",
    "  ```\n",
    "\n",
    "* Store all the dictionaries in a Python list.\n",
    "\n",
    "* Print the list in your notebook."
   ]
  },
  {
   "cell_type": "code",
   "execution_count": 24,
   "metadata": {},
   "outputs": [
    {
     "data": {
      "text/plain": [
       "[<div NASA's MAVEN Observes Martian Light Show Caused by Major Solar Storm=\"For the first time in its eight years orbiting Mars, NASA’s MAVEN mission witnessed two different types of ultraviolet aurorae simultaneously, the result of solar storms that began on Aug. 27.\" class=\"list_text\">\n",
       " <div class=\"list_date\">November 9, 2022</div>\n",
       " <div class=\"content_title\">NASA's MAVEN Observes Martian Light Show Caused by Major Solar Storm</div>\n",
       " <div class=\"article_teaser_body\">For the first time in its eight years orbiting Mars, NASA’s MAVEN mission witnessed two different types of ultraviolet aurorae simultaneously, the result of solar storms that began on Aug. 27.</div>\n",
       " </div>,\n",
       " <div NASA Prepares to Say 'Farewell' to InSight Spacecraft=\"A closer look at what goes into wrapping up the mission as the spacecraft’s power supply continues to dwindle.\" class=\"list_text\">\n",
       " <div class=\"list_date\">November 1, 2022</div>\n",
       " <div class=\"content_title\">NASA Prepares to Say 'Farewell' to InSight Spacecraft</div>\n",
       " <div class=\"article_teaser_body\">A closer look at what goes into wrapping up the mission as the spacecraft’s power supply continues to dwindle.</div>\n",
       " </div>,\n",
       " <div NASA and ESA Agree on Next Steps to Return Mars Samples to Earth=\"The agency’s Perseverance rover will establish the first sample depot on Mars.\" class=\"list_text\">\n",
       " <div class=\"list_date\">October 28, 2022</div>\n",
       " <div class=\"content_title\">NASA and ESA Agree on Next Steps to Return Mars Samples to Earth</div>\n",
       " <div class=\"article_teaser_body\">The agency’s Perseverance rover will establish the first sample depot on Mars.</div>\n",
       " </div>,\n",
       " <div NASA's InSight Lander Detects Stunning Meteoroid Impact on Mars=\"The agency’s lander felt the ground shake during the impact while cameras aboard the Mars Reconnaissance Orbiter spotted the yawning new crater from space.\" class=\"list_text\">\n",
       " <div class=\"list_date\">October 27, 2022</div>\n",
       " <div class=\"content_title\">NASA's InSight Lander Detects Stunning Meteoroid Impact on Mars</div>\n",
       " <div class=\"article_teaser_body\">The agency’s lander felt the ground shake during the impact while cameras aboard the Mars Reconnaissance Orbiter spotted the yawning new crater from space.</div>\n",
       " </div>,\n",
       " <div NASA To Host Briefing on InSight, Mars Reconnaissance Orbiter Findings=\"Scientists from two Mars missions will discuss how they combined images and data for a major finding on the Red Planet.\" class=\"list_text\">\n",
       " <div class=\"list_date\">October 21, 2022</div>\n",
       " <div class=\"content_title\">NASA To Host Briefing on InSight, Mars Reconnaissance Orbiter Findings</div>\n",
       " <div class=\"article_teaser_body\">Scientists from two Mars missions will discuss how they combined images and data for a major finding on the Red Planet.</div>\n",
       " </div>,\n",
       " <div Why NASA Is Trying To Crash Land on Mars=\"Like a car’s crumple zone, the experimental SHIELD lander is designed to absorb a hard impact.\" class=\"list_text\">\n",
       " <div class=\"list_date\">October 20, 2022</div>\n",
       " <div class=\"content_title\">Why NASA Is Trying To Crash Land on Mars</div>\n",
       " <div class=\"article_teaser_body\">Like a car’s crumple zone, the experimental SHIELD lander is designed to absorb a hard impact.</div>\n",
       " </div>,\n",
       " <div Curiosity Mars Rover Reaches Long-Awaited Salty Region=\"After years of climbing, the Mars rover has arrived at a special region believed to have formed as Mars’ climate was drying.\" class=\"list_text\">\n",
       " <div class=\"list_date\">October 19, 2022</div>\n",
       " <div class=\"content_title\">Curiosity Mars Rover Reaches Long-Awaited Salty Region</div>\n",
       " <div class=\"article_teaser_body\">After years of climbing, the Mars rover has arrived at a special region believed to have formed as Mars’ climate was drying.</div>\n",
       " </div>,\n",
       " <div Mars Mission Shields Up for Tests=\"Protecting Mars Sample Return spacecraft from micrometeorites requires high-caliber work.\" class=\"list_text\">\n",
       " <div class=\"list_date\">October 12, 2022</div>\n",
       " <div class=\"content_title\">Mars Mission Shields Up for Tests</div>\n",
       " <div class=\"article_teaser_body\">Protecting Mars Sample Return spacecraft from micrometeorites requires high-caliber work.</div>\n",
       " </div>,\n",
       " <div NASA's InSight Waits Out Dust Storm=\"InSight’s team is taking steps to help the solar-powered lander continue operating for as long as possible.\" class=\"list_text\">\n",
       " <div class=\"list_date\">October 7, 2022</div>\n",
       " <div class=\"content_title\">NASA's InSight Waits Out Dust Storm</div>\n",
       " <div class=\"article_teaser_body\">InSight’s team is taking steps to help the solar-powered lander continue operating for as long as possible.</div>\n",
       " </div>,\n",
       " <div NASA's InSight 'Hears' Its First Meteoroid Impacts on Mars=\"The Mars lander’s seismometer has picked up vibrations from four separate impacts in the past two years.\" class=\"list_text\">\n",
       " <div class=\"list_date\">September 19, 2022</div>\n",
       " <div class=\"content_title\">NASA's InSight 'Hears' Its First Meteoroid Impacts on Mars</div>\n",
       " <div class=\"article_teaser_body\">The Mars lander’s seismometer has picked up vibrations from four separate impacts in the past two years.</div>\n",
       " </div>,\n",
       " <div NASA's Perseverance Rover Investigates Geologically Rich Mars Terrain=\"The latest findings provide greater detail on a region of the Red Planet that has a watery past and is yielding promising samples for the NASA-ESA Mars Sample Return campaign.\" class=\"list_text\">\n",
       " <div class=\"list_date\">September 15, 2022</div>\n",
       " <div class=\"content_title\">NASA's Perseverance Rover Investigates Geologically Rich Mars Terrain</div>\n",
       " <div class=\"article_teaser_body\">The latest findings provide greater detail on a region of the Red Planet that has a watery past and is yielding promising samples for the NASA-ESA Mars Sample Return campaign.</div>\n",
       " </div>,\n",
       " <div NASA to Host Briefing on Perseverance Mars Rover Mission Operations=\"Members of the mission will discuss the rover’s activities as it gathers samples in an ancient river delta.\" class=\"list_text\">\n",
       " <div class=\"list_date\">September 12, 2022</div>\n",
       " <div class=\"content_title\">NASA to Host Briefing on Perseverance Mars Rover Mission Operations</div>\n",
       " <div class=\"article_teaser_body\">Members of the mission will discuss the rover’s activities as it gathers samples in an ancient river delta.</div>\n",
       " </div>,\n",
       " <div NASA's Perseverance Makes New Discoveries in Mars' Jezero Crater=\"The rover found that Jezero Crater’s floor is made up of volcanic rocks that have interacted with water.\" class=\"list_text\">\n",
       " <div class=\"list_date\">August 25, 2022</div>\n",
       " <div class=\"content_title\">NASA's Perseverance Makes New Discoveries in Mars' Jezero Crater</div>\n",
       " <div class=\"article_teaser_body\">The rover found that Jezero Crater’s floor is made up of volcanic rocks that have interacted with water.</div>\n",
       " </div>,\n",
       " <div 10 Years Since Landing, NASA's Curiosity Mars Rover Still Has Drive=\"Despite signs of wear, the intrepid spacecraft is about to start an exciting new chapter of its mission as it climbs a Martian mountain.\" class=\"list_text\">\n",
       " <div class=\"list_date\">August 5, 2022</div>\n",
       " <div class=\"content_title\">10 Years Since Landing, NASA's Curiosity Mars Rover Still Has Drive</div>\n",
       " <div class=\"article_teaser_body\">Despite signs of wear, the intrepid spacecraft is about to start an exciting new chapter of its mission as it climbs a Martian mountain.</div>\n",
       " </div>,\n",
       " <div SAM's Top 5 Discoveries Aboard NASA's Curiosity Rover at Mars=\"“Selfie” of the Curiosity rover with inset showing the SAM instrument prior to installation on the rover.\" class=\"list_text\">\n",
       " <div class=\"list_date\">August 4, 2022</div>\n",
       " <div class=\"content_title\">SAM's Top 5 Discoveries Aboard NASA's Curiosity Rover at Mars</div>\n",
       " <div class=\"article_teaser_body\">“Selfie” of the Curiosity rover with inset showing the SAM instrument prior to installation on the rover.</div>\n",
       " </div>]"
      ]
     },
     "execution_count": 24,
     "metadata": {},
     "output_type": "execute_result"
    }
   ],
   "source": [
    "# Create an empty list to store the dictionaries\n",
    "article_list = []\n",
    "articles = news_soup.find_all('div', class_ = 'list_text')\n",
    "articles"
   ]
  },
  {
   "cell_type": "code",
   "execution_count": 40,
   "metadata": {},
   "outputs": [
    {
     "data": {
      "text/plain": [
       "{('title',\n",
       "  \"NASA's MAVEN Observes Martian Light Show Caused by Major Solar Storm\"): ('preview',\n",
       "  'For the first time in its eight years orbiting Mars, NASA’s MAVEN mission witnessed two different types of ultraviolet aurorae simultaneously, the result of solar storms that began on Aug. 27.'),\n",
       " ('title',\n",
       "  \"NASA Prepares to Say 'Farewell' to InSight Spacecraft\"): ('preview', 'A closer look at what goes into wrapping up the mission as the spacecraft’s power supply continues to dwindle.'),\n",
       " ('title',\n",
       "  'NASA and ESA Agree on Next Steps to Return Mars Samples to Earth'): ('preview',\n",
       "  'The agency’s Perseverance rover will establish the first sample depot on Mars.'),\n",
       " ('title',\n",
       "  \"NASA's InSight Lander Detects Stunning Meteoroid Impact on Mars\"): ('preview',\n",
       "  'The agency’s lander felt the ground shake during the impact while cameras aboard the Mars Reconnaissance Orbiter spotted the yawning new crater from space.'),\n",
       " ('title',\n",
       "  'NASA To Host Briefing on InSight, Mars Reconnaissance Orbiter Findings'): ('preview',\n",
       "  'Scientists from two Mars missions will discuss how they combined images and data for a major finding on the Red Planet.'),\n",
       " ('title', 'Why NASA Is Trying To Crash Land on Mars'): ('preview',\n",
       "  'Like a car’s crumple zone, the experimental SHIELD lander is designed to absorb a hard impact.'),\n",
       " ('title',\n",
       "  'Curiosity Mars Rover Reaches Long-Awaited Salty Region'): ('preview', 'After years of climbing, the Mars rover has arrived at a special region believed to have formed as Mars’ climate was drying.'),\n",
       " ('title', 'Mars Mission Shields Up for Tests'): ('preview',\n",
       "  'Protecting Mars Sample Return spacecraft from micrometeorites requires high-caliber work.'),\n",
       " ('title', \"NASA's InSight Waits Out Dust Storm\"): ('preview',\n",
       "  'InSight’s team is taking steps to help the solar-powered lander continue operating for as long as possible.'),\n",
       " ('title',\n",
       "  \"NASA's InSight 'Hears' Its First Meteoroid Impacts on Mars\"): ('preview', 'The Mars lander’s seismometer has picked up vibrations from four separate impacts in the past two years.'),\n",
       " ('title',\n",
       "  \"NASA's Perseverance Rover Investigates Geologically Rich Mars Terrain\"): ('preview',\n",
       "  'The latest findings provide greater detail on a region of the Red Planet that has a watery past and is yielding promising samples for the NASA-ESA Mars Sample Return campaign.'),\n",
       " ('title',\n",
       "  'NASA to Host Briefing on Perseverance Mars Rover Mission Operations'): ('preview',\n",
       "  'Members of the mission will discuss the rover’s activities as it gathers samples in an ancient river delta.'),\n",
       " ('title',\n",
       "  \"NASA's Perseverance Makes New Discoveries in Mars' Jezero Crater\"): ('preview',\n",
       "  'The rover found that Jezero Crater’s floor is made up of volcanic rocks that have interacted with water.'),\n",
       " ('title',\n",
       "  \"10 Years Since Landing, NASA's Curiosity Mars Rover Still Has Drive\"): ('preview',\n",
       "  'Despite signs of wear, the intrepid spacecraft is about to start an exciting new chapter of its mission as it climbs a Martian mountain.'),\n",
       " ('title',\n",
       "  \"SAM's Top 5 Discoveries Aboard NASA's Curiosity Rover at Mars\"): ('preview', '“Selfie” of the Curiosity rover with inset showing the SAM instrument prior to installation on the rover.')}"
      ]
     },
     "execution_count": 40,
     "metadata": {},
     "output_type": "execute_result"
    }
   ],
   "source": [
    "# Loop through the text elements\n",
    "# Extract the title and preview text from the elements\n",
    "# Store each title and preview pair in a dictionary\n",
    "# Add the dictionary to the list\n",
    "article_dict = {}\n",
    "articles = news_soup.find_all('div', class_ = 'list_text')\n",
    "for article in articles:\n",
    "    title = article.find(class_='content_title').text\n",
    "    preview = article.find(class_='article_teaser_body').text\n",
    "    article_dict[\"title\",title] = (\"preview\",preview)\n",
    "\n",
    "\n",
    "\n",
    "\n"
   ]
  },
  {
   "cell_type": "code",
   "execution_count": 41,
   "metadata": {},
   "outputs": [
    {
     "data": {
      "text/plain": [
       "{('title',\n",
       "  \"NASA's MAVEN Observes Martian Light Show Caused by Major Solar Storm\"): ('preview',\n",
       "  'For the first time in its eight years orbiting Mars, NASA’s MAVEN mission witnessed two different types of ultraviolet aurorae simultaneously, the result of solar storms that began on Aug. 27.'),\n",
       " ('title',\n",
       "  \"NASA Prepares to Say 'Farewell' to InSight Spacecraft\"): ('preview', 'A closer look at what goes into wrapping up the mission as the spacecraft’s power supply continues to dwindle.'),\n",
       " ('title',\n",
       "  'NASA and ESA Agree on Next Steps to Return Mars Samples to Earth'): ('preview',\n",
       "  'The agency’s Perseverance rover will establish the first sample depot on Mars.'),\n",
       " ('title',\n",
       "  \"NASA's InSight Lander Detects Stunning Meteoroid Impact on Mars\"): ('preview',\n",
       "  'The agency’s lander felt the ground shake during the impact while cameras aboard the Mars Reconnaissance Orbiter spotted the yawning new crater from space.'),\n",
       " ('title',\n",
       "  'NASA To Host Briefing on InSight, Mars Reconnaissance Orbiter Findings'): ('preview',\n",
       "  'Scientists from two Mars missions will discuss how they combined images and data for a major finding on the Red Planet.'),\n",
       " ('title', 'Why NASA Is Trying To Crash Land on Mars'): ('preview',\n",
       "  'Like a car’s crumple zone, the experimental SHIELD lander is designed to absorb a hard impact.'),\n",
       " ('title',\n",
       "  'Curiosity Mars Rover Reaches Long-Awaited Salty Region'): ('preview', 'After years of climbing, the Mars rover has arrived at a special region believed to have formed as Mars’ climate was drying.'),\n",
       " ('title', 'Mars Mission Shields Up for Tests'): ('preview',\n",
       "  'Protecting Mars Sample Return spacecraft from micrometeorites requires high-caliber work.'),\n",
       " ('title', \"NASA's InSight Waits Out Dust Storm\"): ('preview',\n",
       "  'InSight’s team is taking steps to help the solar-powered lander continue operating for as long as possible.'),\n",
       " ('title',\n",
       "  \"NASA's InSight 'Hears' Its First Meteoroid Impacts on Mars\"): ('preview', 'The Mars lander’s seismometer has picked up vibrations from four separate impacts in the past two years.'),\n",
       " ('title',\n",
       "  \"NASA's Perseverance Rover Investigates Geologically Rich Mars Terrain\"): ('preview',\n",
       "  'The latest findings provide greater detail on a region of the Red Planet that has a watery past and is yielding promising samples for the NASA-ESA Mars Sample Return campaign.'),\n",
       " ('title',\n",
       "  'NASA to Host Briefing on Perseverance Mars Rover Mission Operations'): ('preview',\n",
       "  'Members of the mission will discuss the rover’s activities as it gathers samples in an ancient river delta.'),\n",
       " ('title',\n",
       "  \"NASA's Perseverance Makes New Discoveries in Mars' Jezero Crater\"): ('preview',\n",
       "  'The rover found that Jezero Crater’s floor is made up of volcanic rocks that have interacted with water.'),\n",
       " ('title',\n",
       "  \"10 Years Since Landing, NASA's Curiosity Mars Rover Still Has Drive\"): ('preview',\n",
       "  'Despite signs of wear, the intrepid spacecraft is about to start an exciting new chapter of its mission as it climbs a Martian mountain.'),\n",
       " ('title',\n",
       "  \"SAM's Top 5 Discoveries Aboard NASA's Curiosity Rover at Mars\"): ('preview', '“Selfie” of the Curiosity rover with inset showing the SAM instrument prior to installation on the rover.')}"
      ]
     },
     "execution_count": 41,
     "metadata": {},
     "output_type": "execute_result"
    }
   ],
   "source": [
    "# Print the list to confirm success\n",
    "article_dict"
   ]
  },
  {
   "cell_type": "code",
   "execution_count": 42,
   "metadata": {},
   "outputs": [],
   "source": [
    "browser.quit()"
   ]
  },
  {
   "cell_type": "code",
   "execution_count": null,
   "metadata": {},
   "outputs": [],
   "source": []
  }
 ],
 "metadata": {
  "kernelspec": {
   "display_name": "base",
   "language": "python",
   "name": "python3"
  },
  "language_info": {
   "codemirror_mode": {
    "name": "ipython",
    "version": 3
   },
   "file_extension": ".py",
   "mimetype": "text/x-python",
   "name": "python",
   "nbconvert_exporter": "python",
   "pygments_lexer": "ipython3",
   "version": "3.9.13"
  },
  "vscode": {
   "interpreter": {
    "hash": "40f8a3cd879a3332c3588fbc47e39be171709cc6dc9c06860abe5630fb2395eb"
   }
  }
 },
 "nbformat": 4,
 "nbformat_minor": 4
}
